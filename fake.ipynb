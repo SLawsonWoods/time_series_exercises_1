{
 "cells": [
  {
   "cell_type": "code",
   "execution_count": 2,
   "id": "fdd999f2",
   "metadata": {},
   "outputs": [],
   "source": [
    "import pandas as pd\n",
    "import requests\n",
    "import acquire"
   ]
  },
  {
   "cell_type": "code",
   "execution_count": 3,
   "id": "88e31f11",
   "metadata": {},
   "outputs": [],
   "source": [
    "df = pd.read_csv('cached_all_dfs.csv')"
   ]
  },
  {
   "cell_type": "code",
   "execution_count": 29,
   "id": "8981c6ff",
   "metadata": {},
   "outputs": [],
   "source": [
    "def formatting(df):\n",
    "    # converting sale_date to datetime format using to_datetime()\n",
    "    df.sale_date = pd.to_datetime(df.sale_date)\n",
    "    # this gives you a df resetting the index to date which has to\n",
    "    df = df.set_index('sale_date').sort_index()\n",
    "    # adding a month column\n",
    "    df['month'] = df.index.strftime('%B')\n",
    "    # adding a day of the week column\n",
    "    df['day'] = df.index.strftime('%w')\n",
    "    return df"
   ]
  },
  {
   "cell_type": "code",
   "execution_count": 33,
   "id": "2d3a5aff",
   "metadata": {},
   "outputs": [],
   "source": [
    "def formatting():\n",
    "    df = pd.read_csv('cached_all_dfs.csv')\n",
    "    # converting sale_date to datetime format using to_datetime()\n",
    "    df.sale_date = pd.to_datetime(df.sale_date)\n",
    "    # this gives you a df resetting the index to date which has to\n",
    "    df = df.set_index('sale_date').sort_index()\n",
    "    # adding a month column\n",
    "    df['month'] = df.index.strftime('%B')\n",
    "    # adding a day of the week column\n",
    "    df['day'] = df.index.strftime('%w')\n",
    "    return df"
   ]
  },
  {
   "cell_type": "code",
   "execution_count": 4,
   "id": "f517b014",
   "metadata": {},
   "outputs": [],
   "source": [
    "def formatting(df):\n",
    "    # converting sale_date to datetime format using to_datetime()\n",
    "    df.sale_date = pd.to_datetime(df.sale_date)\n",
    "    # this gives you a df resetting the index to date which has to\n",
    "    df = df.set_index('sale_date').sort_index()\n",
    "    # making a total sales column\n",
    "    df['sales_total'] = df.sale_amount * df.item_price\n",
    "    # adding a month column\n",
    "    df['month'] = df.index.strftime('%B')\n",
    "    # adding a day of the week column\n",
    "    df['day'] = df.index.strftime('%w')\n",
    "    return df"
   ]
  },
  {
   "cell_type": "code",
   "execution_count": 5,
   "id": "b3447cc5",
   "metadata": {},
   "outputs": [],
   "source": [
    "df = formatting(df)"
   ]
  },
  {
   "cell_type": "code",
   "execution_count": 7,
   "id": "0f4daf8e",
   "metadata": {},
   "outputs": [
    {
     "data": {
      "text/plain": [
       "(913000, 21)"
      ]
     },
     "execution_count": 7,
     "metadata": {},
     "output_type": "execute_result"
    }
   ],
   "source": [
    "df.shape"
   ]
  },
  {
   "cell_type": "code",
   "execution_count": 8,
   "id": "10674c6c",
   "metadata": {},
   "outputs": [
    {
     "data": {
      "text/plain": [
       "Index(['Unnamed: 0', 'item', 'sale_amount', 'sale_id', 'store',\n",
       "       'store_address', 'store_city', 'store_id', 'store_state',\n",
       "       'store_zipcode', 'level_0', 'index', 'item_brand', 'item_id',\n",
       "       'item_name', 'item_price', 'item_upc12', 'item_upc14', 'sales_total',\n",
       "       'month', 'day'],\n",
       "      dtype='object')"
      ]
     },
     "execution_count": 8,
     "metadata": {},
     "output_type": "execute_result"
    }
   ],
   "source": [
    "df.columns"
   ]
  },
  {
   "cell_type": "code",
   "execution_count": 9,
   "id": "b2ffaaf0",
   "metadata": {},
   "outputs": [
    {
     "ename": "SyntaxError",
     "evalue": "unexpected EOF while parsing (<ipython-input-9-ee152244fd06>, line 2)",
     "output_type": "error",
     "traceback": [
      "\u001b[0;36m  File \u001b[0;32m\"<ipython-input-9-ee152244fd06>\"\u001b[0;36m, line \u001b[0;32m2\u001b[0m\n\u001b[0;31m    df_sales,\u001b[0m\n\u001b[0m             ^\u001b[0m\n\u001b[0;31mSyntaxError\u001b[0m\u001b[0;31m:\u001b[0m unexpected EOF while parsing\n"
     ]
    }
   ],
   "source": [
    "sales_plus_stores = pd.merge(\n",
    "    df_sales,"
   ]
  },
  {
   "cell_type": "code",
   "execution_count": null,
   "id": "801a7e55",
   "metadata": {},
   "outputs": [],
   "source": []
  }
 ],
 "metadata": {
  "kernelspec": {
   "display_name": "Python 3",
   "language": "python",
   "name": "python3"
  },
  "language_info": {
   "codemirror_mode": {
    "name": "ipython",
    "version": 3
   },
   "file_extension": ".py",
   "mimetype": "text/x-python",
   "name": "python",
   "nbconvert_exporter": "python",
   "pygments_lexer": "ipython3",
   "version": "3.8.8"
  }
 },
 "nbformat": 4,
 "nbformat_minor": 5
}
