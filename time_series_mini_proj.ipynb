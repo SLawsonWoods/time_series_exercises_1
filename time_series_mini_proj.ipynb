{
 "cells": [
  {
   "cell_type": "markdown",
   "id": "2c686811",
   "metadata": {},
   "source": [
    "Panama Climate \n",
    "Sarah Lawson Woods\n",
    "October 2021"
   ]
  },
  {
   "cell_type": "markdown",
   "id": "eee63d55",
   "metadata": {},
   "source": [
    "Goal:"
   ]
  },
  {
   "cell_type": "markdown",
   "id": "6494f87c",
   "metadata": {},
   "source": [
    "Planning:"
   ]
  },
  {
   "cell_type": "markdown",
   "id": "71f2c72b",
   "metadata": {},
   "source": [
    "Executive Summary:"
   ]
  },
  {
   "cell_type": "code",
   "execution_count": 1,
   "id": "cb9bc05b",
   "metadata": {},
   "outputs": [],
   "source": [
    "# Imports\n",
    "\n",
    "# for presentation purposes\n",
    "import warnings\n",
    "warnings.filterwarnings(\"ignore\")\n",
    "\n",
    "import numpy as np\n",
    "import pandas as pd\n",
    "\n",
    "# visualize \n",
    "import matplotlib.pyplot as plt\n",
    "%matplotlib inline\n",
    "import seaborn as sns\n",
    "\n",
    "\n",
    "# working with dates\n",
    "from datetime import datetime\n",
    "\n",
    "# to evaluated performance using rmse\n",
    "from sklearn.metrics import mean_squared_error\n",
    "from math import sqrt \n",
    "\n",
    "# for tsa \n",
    "import statsmodels.api as sm\n",
    "\n",
    "# for modeling\n",
    "from statsmodels.tsa.api import Holt\n",
    "\n",
    "import mini_proj_functions as m"
   ]
  },
  {
   "cell_type": "markdown",
   "id": "cdb500ee",
   "metadata": {},
   "source": [
    "# Acquire"
   ]
  },
  {
   "cell_type": "code",
   "execution_count": 2,
   "id": "8e3ada36",
   "metadata": {},
   "outputs": [],
   "source": [
    "df = m.get_temp_data()"
   ]
  },
  {
   "cell_type": "code",
   "execution_count": 3,
   "id": "bfc2aff2",
   "metadata": {},
   "outputs": [
    {
     "data": {
      "text/html": [
       "<div>\n",
       "<style scoped>\n",
       "    .dataframe tbody tr th:only-of-type {\n",
       "        vertical-align: middle;\n",
       "    }\n",
       "\n",
       "    .dataframe tbody tr th {\n",
       "        vertical-align: top;\n",
       "    }\n",
       "\n",
       "    .dataframe thead th {\n",
       "        text-align: right;\n",
       "    }\n",
       "</style>\n",
       "<table border=\"1\" class=\"dataframe\">\n",
       "  <thead>\n",
       "    <tr style=\"text-align: right;\">\n",
       "      <th></th>\n",
       "      <th>dt</th>\n",
       "      <th>AverageTemperature</th>\n",
       "      <th>AverageTemperatureUncertainty</th>\n",
       "      <th>City</th>\n",
       "      <th>Country</th>\n",
       "      <th>Latitude</th>\n",
       "      <th>Longitude</th>\n",
       "    </tr>\n",
       "  </thead>\n",
       "  <tbody>\n",
       "    <tr>\n",
       "      <th>0</th>\n",
       "      <td>1743-11-01</td>\n",
       "      <td>6.068</td>\n",
       "      <td>1.737</td>\n",
       "      <td>Århus</td>\n",
       "      <td>Denmark</td>\n",
       "      <td>57.05N</td>\n",
       "      <td>10.33E</td>\n",
       "    </tr>\n",
       "    <tr>\n",
       "      <th>1</th>\n",
       "      <td>1743-12-01</td>\n",
       "      <td>NaN</td>\n",
       "      <td>NaN</td>\n",
       "      <td>Århus</td>\n",
       "      <td>Denmark</td>\n",
       "      <td>57.05N</td>\n",
       "      <td>10.33E</td>\n",
       "    </tr>\n",
       "    <tr>\n",
       "      <th>2</th>\n",
       "      <td>1744-01-01</td>\n",
       "      <td>NaN</td>\n",
       "      <td>NaN</td>\n",
       "      <td>Århus</td>\n",
       "      <td>Denmark</td>\n",
       "      <td>57.05N</td>\n",
       "      <td>10.33E</td>\n",
       "    </tr>\n",
       "    <tr>\n",
       "      <th>3</th>\n",
       "      <td>1744-02-01</td>\n",
       "      <td>NaN</td>\n",
       "      <td>NaN</td>\n",
       "      <td>Århus</td>\n",
       "      <td>Denmark</td>\n",
       "      <td>57.05N</td>\n",
       "      <td>10.33E</td>\n",
       "    </tr>\n",
       "    <tr>\n",
       "      <th>4</th>\n",
       "      <td>1744-03-01</td>\n",
       "      <td>NaN</td>\n",
       "      <td>NaN</td>\n",
       "      <td>Århus</td>\n",
       "      <td>Denmark</td>\n",
       "      <td>57.05N</td>\n",
       "      <td>10.33E</td>\n",
       "    </tr>\n",
       "    <tr>\n",
       "      <th>5</th>\n",
       "      <td>1744-04-01</td>\n",
       "      <td>5.788</td>\n",
       "      <td>3.624</td>\n",
       "      <td>Århus</td>\n",
       "      <td>Denmark</td>\n",
       "      <td>57.05N</td>\n",
       "      <td>10.33E</td>\n",
       "    </tr>\n",
       "    <tr>\n",
       "      <th>6</th>\n",
       "      <td>1744-05-01</td>\n",
       "      <td>10.644</td>\n",
       "      <td>1.283</td>\n",
       "      <td>Århus</td>\n",
       "      <td>Denmark</td>\n",
       "      <td>57.05N</td>\n",
       "      <td>10.33E</td>\n",
       "    </tr>\n",
       "    <tr>\n",
       "      <th>7</th>\n",
       "      <td>1744-06-01</td>\n",
       "      <td>14.051</td>\n",
       "      <td>1.347</td>\n",
       "      <td>Århus</td>\n",
       "      <td>Denmark</td>\n",
       "      <td>57.05N</td>\n",
       "      <td>10.33E</td>\n",
       "    </tr>\n",
       "    <tr>\n",
       "      <th>8</th>\n",
       "      <td>1744-07-01</td>\n",
       "      <td>16.082</td>\n",
       "      <td>1.396</td>\n",
       "      <td>Århus</td>\n",
       "      <td>Denmark</td>\n",
       "      <td>57.05N</td>\n",
       "      <td>10.33E</td>\n",
       "    </tr>\n",
       "    <tr>\n",
       "      <th>9</th>\n",
       "      <td>1744-08-01</td>\n",
       "      <td>NaN</td>\n",
       "      <td>NaN</td>\n",
       "      <td>Århus</td>\n",
       "      <td>Denmark</td>\n",
       "      <td>57.05N</td>\n",
       "      <td>10.33E</td>\n",
       "    </tr>\n",
       "    <tr>\n",
       "      <th>10</th>\n",
       "      <td>1744-09-01</td>\n",
       "      <td>12.781</td>\n",
       "      <td>1.454</td>\n",
       "      <td>Århus</td>\n",
       "      <td>Denmark</td>\n",
       "      <td>57.05N</td>\n",
       "      <td>10.33E</td>\n",
       "    </tr>\n",
       "    <tr>\n",
       "      <th>11</th>\n",
       "      <td>1744-10-01</td>\n",
       "      <td>7.950</td>\n",
       "      <td>1.630</td>\n",
       "      <td>Århus</td>\n",
       "      <td>Denmark</td>\n",
       "      <td>57.05N</td>\n",
       "      <td>10.33E</td>\n",
       "    </tr>\n",
       "    <tr>\n",
       "      <th>12</th>\n",
       "      <td>1744-11-01</td>\n",
       "      <td>4.639</td>\n",
       "      <td>1.302</td>\n",
       "      <td>Århus</td>\n",
       "      <td>Denmark</td>\n",
       "      <td>57.05N</td>\n",
       "      <td>10.33E</td>\n",
       "    </tr>\n",
       "    <tr>\n",
       "      <th>13</th>\n",
       "      <td>1744-12-01</td>\n",
       "      <td>0.122</td>\n",
       "      <td>1.756</td>\n",
       "      <td>Århus</td>\n",
       "      <td>Denmark</td>\n",
       "      <td>57.05N</td>\n",
       "      <td>10.33E</td>\n",
       "    </tr>\n",
       "    <tr>\n",
       "      <th>14</th>\n",
       "      <td>1745-01-01</td>\n",
       "      <td>-1.333</td>\n",
       "      <td>1.642</td>\n",
       "      <td>Århus</td>\n",
       "      <td>Denmark</td>\n",
       "      <td>57.05N</td>\n",
       "      <td>10.33E</td>\n",
       "    </tr>\n",
       "    <tr>\n",
       "      <th>15</th>\n",
       "      <td>1745-02-01</td>\n",
       "      <td>-2.732</td>\n",
       "      <td>1.358</td>\n",
       "      <td>Århus</td>\n",
       "      <td>Denmark</td>\n",
       "      <td>57.05N</td>\n",
       "      <td>10.33E</td>\n",
       "    </tr>\n",
       "    <tr>\n",
       "      <th>16</th>\n",
       "      <td>1745-03-01</td>\n",
       "      <td>0.129</td>\n",
       "      <td>1.088</td>\n",
       "      <td>Århus</td>\n",
       "      <td>Denmark</td>\n",
       "      <td>57.05N</td>\n",
       "      <td>10.33E</td>\n",
       "    </tr>\n",
       "    <tr>\n",
       "      <th>17</th>\n",
       "      <td>1745-04-01</td>\n",
       "      <td>4.042</td>\n",
       "      <td>1.138</td>\n",
       "      <td>Århus</td>\n",
       "      <td>Denmark</td>\n",
       "      <td>57.05N</td>\n",
       "      <td>10.33E</td>\n",
       "    </tr>\n",
       "    <tr>\n",
       "      <th>18</th>\n",
       "      <td>1745-05-01</td>\n",
       "      <td>NaN</td>\n",
       "      <td>NaN</td>\n",
       "      <td>Århus</td>\n",
       "      <td>Denmark</td>\n",
       "      <td>57.05N</td>\n",
       "      <td>10.33E</td>\n",
       "    </tr>\n",
       "    <tr>\n",
       "      <th>19</th>\n",
       "      <td>1745-06-01</td>\n",
       "      <td>NaN</td>\n",
       "      <td>NaN</td>\n",
       "      <td>Århus</td>\n",
       "      <td>Denmark</td>\n",
       "      <td>57.05N</td>\n",
       "      <td>10.33E</td>\n",
       "    </tr>\n",
       "    <tr>\n",
       "      <th>20</th>\n",
       "      <td>1745-07-01</td>\n",
       "      <td>NaN</td>\n",
       "      <td>NaN</td>\n",
       "      <td>Århus</td>\n",
       "      <td>Denmark</td>\n",
       "      <td>57.05N</td>\n",
       "      <td>10.33E</td>\n",
       "    </tr>\n",
       "    <tr>\n",
       "      <th>21</th>\n",
       "      <td>1745-08-01</td>\n",
       "      <td>NaN</td>\n",
       "      <td>NaN</td>\n",
       "      <td>Århus</td>\n",
       "      <td>Denmark</td>\n",
       "      <td>57.05N</td>\n",
       "      <td>10.33E</td>\n",
       "    </tr>\n",
       "    <tr>\n",
       "      <th>22</th>\n",
       "      <td>1745-09-01</td>\n",
       "      <td>NaN</td>\n",
       "      <td>NaN</td>\n",
       "      <td>Århus</td>\n",
       "      <td>Denmark</td>\n",
       "      <td>57.05N</td>\n",
       "      <td>10.33E</td>\n",
       "    </tr>\n",
       "    <tr>\n",
       "      <th>23</th>\n",
       "      <td>1745-10-01</td>\n",
       "      <td>NaN</td>\n",
       "      <td>NaN</td>\n",
       "      <td>Århus</td>\n",
       "      <td>Denmark</td>\n",
       "      <td>57.05N</td>\n",
       "      <td>10.33E</td>\n",
       "    </tr>\n",
       "    <tr>\n",
       "      <th>24</th>\n",
       "      <td>1745-11-01</td>\n",
       "      <td>NaN</td>\n",
       "      <td>NaN</td>\n",
       "      <td>Århus</td>\n",
       "      <td>Denmark</td>\n",
       "      <td>57.05N</td>\n",
       "      <td>10.33E</td>\n",
       "    </tr>\n",
       "  </tbody>\n",
       "</table>\n",
       "</div>"
      ],
      "text/plain": [
       "            dt  AverageTemperature  AverageTemperatureUncertainty   City  \\\n",
       "0   1743-11-01               6.068                          1.737  Århus   \n",
       "1   1743-12-01                 NaN                            NaN  Århus   \n",
       "2   1744-01-01                 NaN                            NaN  Århus   \n",
       "3   1744-02-01                 NaN                            NaN  Århus   \n",
       "4   1744-03-01                 NaN                            NaN  Århus   \n",
       "5   1744-04-01               5.788                          3.624  Århus   \n",
       "6   1744-05-01              10.644                          1.283  Århus   \n",
       "7   1744-06-01              14.051                          1.347  Århus   \n",
       "8   1744-07-01              16.082                          1.396  Århus   \n",
       "9   1744-08-01                 NaN                            NaN  Århus   \n",
       "10  1744-09-01              12.781                          1.454  Århus   \n",
       "11  1744-10-01               7.950                          1.630  Århus   \n",
       "12  1744-11-01               4.639                          1.302  Århus   \n",
       "13  1744-12-01               0.122                          1.756  Århus   \n",
       "14  1745-01-01              -1.333                          1.642  Århus   \n",
       "15  1745-02-01              -2.732                          1.358  Århus   \n",
       "16  1745-03-01               0.129                          1.088  Århus   \n",
       "17  1745-04-01               4.042                          1.138  Århus   \n",
       "18  1745-05-01                 NaN                            NaN  Århus   \n",
       "19  1745-06-01                 NaN                            NaN  Århus   \n",
       "20  1745-07-01                 NaN                            NaN  Århus   \n",
       "21  1745-08-01                 NaN                            NaN  Århus   \n",
       "22  1745-09-01                 NaN                            NaN  Århus   \n",
       "23  1745-10-01                 NaN                            NaN  Århus   \n",
       "24  1745-11-01                 NaN                            NaN  Århus   \n",
       "\n",
       "    Country Latitude Longitude  \n",
       "0   Denmark   57.05N    10.33E  \n",
       "1   Denmark   57.05N    10.33E  \n",
       "2   Denmark   57.05N    10.33E  \n",
       "3   Denmark   57.05N    10.33E  \n",
       "4   Denmark   57.05N    10.33E  \n",
       "5   Denmark   57.05N    10.33E  \n",
       "6   Denmark   57.05N    10.33E  \n",
       "7   Denmark   57.05N    10.33E  \n",
       "8   Denmark   57.05N    10.33E  \n",
       "9   Denmark   57.05N    10.33E  \n",
       "10  Denmark   57.05N    10.33E  \n",
       "11  Denmark   57.05N    10.33E  \n",
       "12  Denmark   57.05N    10.33E  \n",
       "13  Denmark   57.05N    10.33E  \n",
       "14  Denmark   57.05N    10.33E  \n",
       "15  Denmark   57.05N    10.33E  \n",
       "16  Denmark   57.05N    10.33E  \n",
       "17  Denmark   57.05N    10.33E  \n",
       "18  Denmark   57.05N    10.33E  \n",
       "19  Denmark   57.05N    10.33E  \n",
       "20  Denmark   57.05N    10.33E  \n",
       "21  Denmark   57.05N    10.33E  \n",
       "22  Denmark   57.05N    10.33E  \n",
       "23  Denmark   57.05N    10.33E  \n",
       "24  Denmark   57.05N    10.33E  "
      ]
     },
     "execution_count": 3,
     "metadata": {},
     "output_type": "execute_result"
    }
   ],
   "source": [
    "df.head(25)"
   ]
  },
  {
   "cell_type": "markdown",
   "id": "703063fb",
   "metadata": {},
   "source": [
    "# Prepare"
   ]
  },
  {
   "cell_type": "code",
   "execution_count": 4,
   "id": "3a120edf",
   "metadata": {},
   "outputs": [],
   "source": [
    "#first I need to narrow down to data only concerning Panama\n",
    "df = df.loc[df['Country'] == 'Panama']"
   ]
  },
  {
   "cell_type": "code",
   "execution_count": 5,
   "id": "0a79d4d6",
   "metadata": {},
   "outputs": [
    {
     "data": {
      "text/html": [
       "<div>\n",
       "<style scoped>\n",
       "    .dataframe tbody tr th:only-of-type {\n",
       "        vertical-align: middle;\n",
       "    }\n",
       "\n",
       "    .dataframe tbody tr th {\n",
       "        vertical-align: top;\n",
       "    }\n",
       "\n",
       "    .dataframe thead th {\n",
       "        text-align: right;\n",
       "    }\n",
       "</style>\n",
       "<table border=\"1\" class=\"dataframe\">\n",
       "  <thead>\n",
       "    <tr style=\"text-align: right;\">\n",
       "      <th></th>\n",
       "      <th>dt</th>\n",
       "      <th>AverageTemperature</th>\n",
       "      <th>AverageTemperatureUncertainty</th>\n",
       "      <th>City</th>\n",
       "      <th>Country</th>\n",
       "      <th>Latitude</th>\n",
       "      <th>Longitude</th>\n",
       "    </tr>\n",
       "  </thead>\n",
       "  <tbody>\n",
       "    <tr>\n",
       "      <th>5666133</th>\n",
       "      <td>1825-01-01</td>\n",
       "      <td>27.353</td>\n",
       "      <td>1.886</td>\n",
       "      <td>Panamá</td>\n",
       "      <td>Panama</td>\n",
       "      <td>8.84N</td>\n",
       "      <td>80.27W</td>\n",
       "    </tr>\n",
       "    <tr>\n",
       "      <th>5666134</th>\n",
       "      <td>1825-02-01</td>\n",
       "      <td>27.392</td>\n",
       "      <td>1.588</td>\n",
       "      <td>Panamá</td>\n",
       "      <td>Panama</td>\n",
       "      <td>8.84N</td>\n",
       "      <td>80.27W</td>\n",
       "    </tr>\n",
       "    <tr>\n",
       "      <th>5666135</th>\n",
       "      <td>1825-03-01</td>\n",
       "      <td>27.971</td>\n",
       "      <td>1.862</td>\n",
       "      <td>Panamá</td>\n",
       "      <td>Panama</td>\n",
       "      <td>8.84N</td>\n",
       "      <td>80.27W</td>\n",
       "    </tr>\n",
       "    <tr>\n",
       "      <th>5666136</th>\n",
       "      <td>1825-04-01</td>\n",
       "      <td>28.671</td>\n",
       "      <td>2.005</td>\n",
       "      <td>Panamá</td>\n",
       "      <td>Panama</td>\n",
       "      <td>8.84N</td>\n",
       "      <td>80.27W</td>\n",
       "    </tr>\n",
       "    <tr>\n",
       "      <th>5666137</th>\n",
       "      <td>1825-05-01</td>\n",
       "      <td>27.077</td>\n",
       "      <td>1.271</td>\n",
       "      <td>Panamá</td>\n",
       "      <td>Panama</td>\n",
       "      <td>8.84N</td>\n",
       "      <td>80.27W</td>\n",
       "    </tr>\n",
       "  </tbody>\n",
       "</table>\n",
       "</div>"
      ],
      "text/plain": [
       "                 dt  AverageTemperature  AverageTemperatureUncertainty  \\\n",
       "5666133  1825-01-01              27.353                          1.886   \n",
       "5666134  1825-02-01              27.392                          1.588   \n",
       "5666135  1825-03-01              27.971                          1.862   \n",
       "5666136  1825-04-01              28.671                          2.005   \n",
       "5666137  1825-05-01              27.077                          1.271   \n",
       "\n",
       "           City Country Latitude Longitude  \n",
       "5666133  Panamá  Panama    8.84N    80.27W  \n",
       "5666134  Panamá  Panama    8.84N    80.27W  \n",
       "5666135  Panamá  Panama    8.84N    80.27W  \n",
       "5666136  Panamá  Panama    8.84N    80.27W  \n",
       "5666137  Panamá  Panama    8.84N    80.27W  "
      ]
     },
     "execution_count": 5,
     "metadata": {},
     "output_type": "execute_result"
    }
   ],
   "source": [
    "df.head()"
   ]
  },
  {
   "cell_type": "code",
   "execution_count": 22,
   "id": "9b226bae",
   "metadata": {},
   "outputs": [
    {
     "data": {
      "text/plain": [
       "(4464, 6)"
      ]
     },
     "execution_count": 22,
     "metadata": {},
     "output_type": "execute_result"
    }
   ],
   "source": [
    "df.shape"
   ]
  },
  {
   "cell_type": "code",
   "execution_count": 23,
   "id": "3929d1a0",
   "metadata": {},
   "outputs": [
    {
     "data": {
      "text/plain": [
       "<bound method DataFrame.info of             AverageTemperature  AverageTemperatureUncertainty           City  \\\n",
       "dt                                                                             \n",
       "1825-01-01              27.353                          1.886         Panamá   \n",
       "1825-02-01              27.392                          1.588         Panamá   \n",
       "1825-03-01              27.971                          1.862         Panamá   \n",
       "1825-04-01              28.671                          2.005         Panamá   \n",
       "1825-05-01              27.077                          1.271         Panamá   \n",
       "...                        ...                            ...            ...   \n",
       "2010-08-01              26.996                          0.666  San Miguelito   \n",
       "2010-09-01              26.624                          0.400  San Miguelito   \n",
       "2010-10-01              26.429                          0.578  San Miguelito   \n",
       "2010-11-01              25.948                          0.303  San Miguelito   \n",
       "2010-12-01              25.512                          0.628  San Miguelito   \n",
       "\n",
       "           Country Latitude Longitude  \n",
       "dt                                     \n",
       "1825-01-01  Panama    8.84N    80.27W  \n",
       "1825-02-01  Panama    8.84N    80.27W  \n",
       "1825-03-01  Panama    8.84N    80.27W  \n",
       "1825-04-01  Panama    8.84N    80.27W  \n",
       "1825-05-01  Panama    8.84N    80.27W  \n",
       "...            ...      ...       ...  \n",
       "2010-08-01  Panama    8.84N    80.27W  \n",
       "2010-09-01  Panama    8.84N    80.27W  \n",
       "2010-10-01  Panama    8.84N    80.27W  \n",
       "2010-11-01  Panama    8.84N    80.27W  \n",
       "2010-12-01  Panama    8.84N    80.27W  \n",
       "\n",
       "[4464 rows x 6 columns]>"
      ]
     },
     "execution_count": 23,
     "metadata": {},
     "output_type": "execute_result"
    }
   ],
   "source": [
    "df.info"
   ]
  },
  {
   "cell_type": "code",
   "execution_count": 6,
   "id": "78c18142",
   "metadata": {},
   "outputs": [],
   "source": [
    "# change the df to a datetimeindex\n",
    "df['d`t'] = pd.to_datetime(df.dt)"
   ]
  },
  {
   "cell_type": "code",
   "execution_count": 7,
   "id": "34b6b2ac",
   "metadata": {},
   "outputs": [],
   "source": [
    "# reset the index to the dt\n",
    "df = df.set_index('dt')"
   ]
  },
  {
   "cell_type": "code",
   "execution_count": 8,
   "id": "81e66d32",
   "metadata": {},
   "outputs": [],
   "source": [
    "# narrow down time frame\n",
    "df = df.loc['1800':'2010']"
   ]
  },
  {
   "cell_type": "code",
   "execution_count": 9,
   "id": "c5348665",
   "metadata": {},
   "outputs": [
    {
     "data": {
      "text/html": [
       "<div>\n",
       "<style scoped>\n",
       "    .dataframe tbody tr th:only-of-type {\n",
       "        vertical-align: middle;\n",
       "    }\n",
       "\n",
       "    .dataframe tbody tr th {\n",
       "        vertical-align: top;\n",
       "    }\n",
       "\n",
       "    .dataframe thead th {\n",
       "        text-align: right;\n",
       "    }\n",
       "</style>\n",
       "<table border=\"1\" class=\"dataframe\">\n",
       "  <thead>\n",
       "    <tr style=\"text-align: right;\">\n",
       "      <th></th>\n",
       "      <th>AverageTemperature</th>\n",
       "      <th>AverageTemperatureUncertainty</th>\n",
       "      <th>City</th>\n",
       "      <th>Country</th>\n",
       "      <th>Latitude</th>\n",
       "      <th>Longitude</th>\n",
       "    </tr>\n",
       "    <tr>\n",
       "      <th>dt</th>\n",
       "      <th></th>\n",
       "      <th></th>\n",
       "      <th></th>\n",
       "      <th></th>\n",
       "      <th></th>\n",
       "      <th></th>\n",
       "    </tr>\n",
       "  </thead>\n",
       "  <tbody>\n",
       "    <tr>\n",
       "      <th>1825-01-01</th>\n",
       "      <td>27.353</td>\n",
       "      <td>1.886</td>\n",
       "      <td>Panamá</td>\n",
       "      <td>Panama</td>\n",
       "      <td>8.84N</td>\n",
       "      <td>80.27W</td>\n",
       "    </tr>\n",
       "    <tr>\n",
       "      <th>1825-02-01</th>\n",
       "      <td>27.392</td>\n",
       "      <td>1.588</td>\n",
       "      <td>Panamá</td>\n",
       "      <td>Panama</td>\n",
       "      <td>8.84N</td>\n",
       "      <td>80.27W</td>\n",
       "    </tr>\n",
       "    <tr>\n",
       "      <th>1825-03-01</th>\n",
       "      <td>27.971</td>\n",
       "      <td>1.862</td>\n",
       "      <td>Panamá</td>\n",
       "      <td>Panama</td>\n",
       "      <td>8.84N</td>\n",
       "      <td>80.27W</td>\n",
       "    </tr>\n",
       "    <tr>\n",
       "      <th>1825-04-01</th>\n",
       "      <td>28.671</td>\n",
       "      <td>2.005</td>\n",
       "      <td>Panamá</td>\n",
       "      <td>Panama</td>\n",
       "      <td>8.84N</td>\n",
       "      <td>80.27W</td>\n",
       "    </tr>\n",
       "    <tr>\n",
       "      <th>1825-05-01</th>\n",
       "      <td>27.077</td>\n",
       "      <td>1.271</td>\n",
       "      <td>Panamá</td>\n",
       "      <td>Panama</td>\n",
       "      <td>8.84N</td>\n",
       "      <td>80.27W</td>\n",
       "    </tr>\n",
       "  </tbody>\n",
       "</table>\n",
       "</div>"
      ],
      "text/plain": [
       "            AverageTemperature  AverageTemperatureUncertainty    City Country  \\\n",
       "dt                                                                              \n",
       "1825-01-01              27.353                          1.886  Panamá  Panama   \n",
       "1825-02-01              27.392                          1.588  Panamá  Panama   \n",
       "1825-03-01              27.971                          1.862  Panamá  Panama   \n",
       "1825-04-01              28.671                          2.005  Panamá  Panama   \n",
       "1825-05-01              27.077                          1.271  Panamá  Panama   \n",
       "\n",
       "           Latitude Longitude  \n",
       "dt                             \n",
       "1825-01-01    8.84N    80.27W  \n",
       "1825-02-01    8.84N    80.27W  \n",
       "1825-03-01    8.84N    80.27W  \n",
       "1825-04-01    8.84N    80.27W  \n",
       "1825-05-01    8.84N    80.27W  "
      ]
     },
     "execution_count": 9,
     "metadata": {},
     "output_type": "execute_result"
    }
   ],
   "source": [
    "# check out df to see changes\n",
    "df.head()"
   ]
  },
  {
   "cell_type": "code",
   "execution_count": 10,
   "id": "4ad9e8e7",
   "metadata": {},
   "outputs": [
    {
     "data": {
      "text/plain": [
       "(4464, 6)"
      ]
     },
     "execution_count": 10,
     "metadata": {},
     "output_type": "execute_result"
    }
   ],
   "source": [
    "df.shape"
   ]
  },
  {
   "cell_type": "code",
   "execution_count": 12,
   "id": "ab724c03",
   "metadata": {},
   "outputs": [
    {
     "data": {
      "text/plain": [
       "AverageTemperature               516\n",
       "AverageTemperatureUncertainty    516\n",
       "City                               0\n",
       "Country                            0\n",
       "Latitude                           0\n",
       "Longitude                          0\n",
       "dtype: int64"
      ]
     },
     "execution_count": 12,
     "metadata": {},
     "output_type": "execute_result"
    }
   ],
   "source": [
    "df.isna().sum()"
   ]
  },
  {
   "cell_type": "code",
   "execution_count": 20,
   "id": "cfc320c1",
   "metadata": {},
   "outputs": [],
   "source": [
    "# using interpolation a common time series technique used to fill nulls with help from neighbors of missing values\n",
    "df = df.interpolate(method='linear')   "
   ]
  },
  {
   "cell_type": "code",
   "execution_count": 21,
   "id": "c6f02c6b",
   "metadata": {},
   "outputs": [
    {
     "data": {
      "text/plain": [
       "AverageTemperature               0\n",
       "AverageTemperatureUncertainty    0\n",
       "City                             0\n",
       "Country                          0\n",
       "Latitude                         0\n",
       "Longitude                        0\n",
       "dtype: int64"
      ]
     },
     "execution_count": 21,
     "metadata": {},
     "output_type": "execute_result"
    }
   ],
   "source": [
    "df.isna().sum()"
   ]
  },
  {
   "cell_type": "code",
   "execution_count": 24,
   "id": "075a0829",
   "metadata": {},
   "outputs": [],
   "source": [
    "#c now I need to create a column that has temps in fahrenheit\n",
    "df['Average_Temp_F'] = (df['AverageTemperature'] * 9/5) + 32"
   ]
  },
  {
   "cell_type": "code",
   "execution_count": 25,
   "id": "02d70aa0",
   "metadata": {},
   "outputs": [
    {
     "data": {
      "text/html": [
       "<div>\n",
       "<style scoped>\n",
       "    .dataframe tbody tr th:only-of-type {\n",
       "        vertical-align: middle;\n",
       "    }\n",
       "\n",
       "    .dataframe tbody tr th {\n",
       "        vertical-align: top;\n",
       "    }\n",
       "\n",
       "    .dataframe thead th {\n",
       "        text-align: right;\n",
       "    }\n",
       "</style>\n",
       "<table border=\"1\" class=\"dataframe\">\n",
       "  <thead>\n",
       "    <tr style=\"text-align: right;\">\n",
       "      <th></th>\n",
       "      <th>AverageTemperature</th>\n",
       "      <th>AverageTemperatureUncertainty</th>\n",
       "      <th>City</th>\n",
       "      <th>Country</th>\n",
       "      <th>Latitude</th>\n",
       "      <th>Longitude</th>\n",
       "      <th>Average_Temp_F</th>\n",
       "    </tr>\n",
       "    <tr>\n",
       "      <th>dt</th>\n",
       "      <th></th>\n",
       "      <th></th>\n",
       "      <th></th>\n",
       "      <th></th>\n",
       "      <th></th>\n",
       "      <th></th>\n",
       "      <th></th>\n",
       "    </tr>\n",
       "  </thead>\n",
       "  <tbody>\n",
       "    <tr>\n",
       "      <th>1825-01-01</th>\n",
       "      <td>27.353</td>\n",
       "      <td>1.886</td>\n",
       "      <td>Panamá</td>\n",
       "      <td>Panama</td>\n",
       "      <td>8.84N</td>\n",
       "      <td>80.27W</td>\n",
       "      <td>81.2354</td>\n",
       "    </tr>\n",
       "    <tr>\n",
       "      <th>1825-02-01</th>\n",
       "      <td>27.392</td>\n",
       "      <td>1.588</td>\n",
       "      <td>Panamá</td>\n",
       "      <td>Panama</td>\n",
       "      <td>8.84N</td>\n",
       "      <td>80.27W</td>\n",
       "      <td>81.3056</td>\n",
       "    </tr>\n",
       "    <tr>\n",
       "      <th>1825-03-01</th>\n",
       "      <td>27.971</td>\n",
       "      <td>1.862</td>\n",
       "      <td>Panamá</td>\n",
       "      <td>Panama</td>\n",
       "      <td>8.84N</td>\n",
       "      <td>80.27W</td>\n",
       "      <td>82.3478</td>\n",
       "    </tr>\n",
       "    <tr>\n",
       "      <th>1825-04-01</th>\n",
       "      <td>28.671</td>\n",
       "      <td>2.005</td>\n",
       "      <td>Panamá</td>\n",
       "      <td>Panama</td>\n",
       "      <td>8.84N</td>\n",
       "      <td>80.27W</td>\n",
       "      <td>83.6078</td>\n",
       "    </tr>\n",
       "    <tr>\n",
       "      <th>1825-05-01</th>\n",
       "      <td>27.077</td>\n",
       "      <td>1.271</td>\n",
       "      <td>Panamá</td>\n",
       "      <td>Panama</td>\n",
       "      <td>8.84N</td>\n",
       "      <td>80.27W</td>\n",
       "      <td>80.7386</td>\n",
       "    </tr>\n",
       "  </tbody>\n",
       "</table>\n",
       "</div>"
      ],
      "text/plain": [
       "            AverageTemperature  AverageTemperatureUncertainty    City Country  \\\n",
       "dt                                                                              \n",
       "1825-01-01              27.353                          1.886  Panamá  Panama   \n",
       "1825-02-01              27.392                          1.588  Panamá  Panama   \n",
       "1825-03-01              27.971                          1.862  Panamá  Panama   \n",
       "1825-04-01              28.671                          2.005  Panamá  Panama   \n",
       "1825-05-01              27.077                          1.271  Panamá  Panama   \n",
       "\n",
       "           Latitude Longitude  Average_Temp_F  \n",
       "dt                                             \n",
       "1825-01-01    8.84N    80.27W         81.2354  \n",
       "1825-02-01    8.84N    80.27W         81.3056  \n",
       "1825-03-01    8.84N    80.27W         82.3478  \n",
       "1825-04-01    8.84N    80.27W         83.6078  \n",
       "1825-05-01    8.84N    80.27W         80.7386  "
      ]
     },
     "execution_count": 25,
     "metadata": {},
     "output_type": "execute_result"
    }
   ],
   "source": [
    "df.head()"
   ]
  },
  {
   "cell_type": "code",
   "execution_count": 31,
   "id": "2cf803ce",
   "metadata": {},
   "outputs": [
    {
     "data": {
      "text/plain": [
       "(75.65180000000001, 86.4032)"
      ]
     },
     "execution_count": 31,
     "metadata": {},
     "output_type": "execute_result"
    }
   ],
   "source": [
    "# looking for errors in data temps\n",
    "df.Average_Temp_F.min(), df.Average_Temp_F.max()"
   ]
  },
  {
   "cell_type": "code",
   "execution_count": null,
   "id": "e36549c0",
   "metadata": {},
   "outputs": [],
   "source": [
    "# def prep_data(df):\n",
    "#     #first I need to narrow down to data only concerning Panama\n",
    "#     df = df.loc[df['Country'] == 'Panama']\n",
    "#     return df  "
   ]
  },
  {
   "cell_type": "code",
   "execution_count": 39,
   "id": "3551587a",
   "metadata": {},
   "outputs": [],
   "source": [
    "# dropping unnecessary columns\n",
    "df = df.drop(columns=['AverageTemperature', 'City', 'Longitude', 'Latitude'])"
   ]
  },
  {
   "cell_type": "markdown",
   "id": "48ac263a",
   "metadata": {},
   "source": [
    "# Train, test, split"
   ]
  },
  {
   "cell_type": "code",
   "execution_count": 34,
   "id": "7077a3db",
   "metadata": {},
   "outputs": [
    {
     "data": {
      "text/plain": [
       "3124.7999999999997"
      ]
     },
     "execution_count": 34,
     "metadata": {},
     "output_type": "execute_result"
    }
   ],
   "source": [
    "# total rows 4464\n",
    "# take near 70% for train\n",
    "4464 * .7"
   ]
  },
  {
   "cell_type": "code",
   "execution_count": 37,
   "id": "e0a6323b",
   "metadata": {},
   "outputs": [
    {
     "data": {
      "text/plain": [
       "781.0"
      ]
     },
     "execution_count": 37,
     "metadata": {},
     "output_type": "execute_result"
    }
   ],
   "source": [
    "# take near 25% of train for validate\n",
    "3124 * .25"
   ]
  },
  {
   "cell_type": "code",
   "execution_count": 36,
   "id": "d46b0a2f",
   "metadata": {},
   "outputs": [
    {
     "data": {
      "text/plain": [
       "1339.2"
      ]
     },
     "execution_count": 36,
     "metadata": {},
     "output_type": "execute_result"
    }
   ],
   "source": [
    "# take near 30% for test\n",
    "4464 * .3"
   ]
  },
  {
   "cell_type": "code",
   "execution_count": 40,
   "id": "6495e672",
   "metadata": {},
   "outputs": [
    {
     "data": {
      "text/plain": [
       "AverageTemperatureUncertainty      0.965\n",
       "Country                           Panama\n",
       "Average_Temp_F                   80.1554\n",
       "Name: 1899-05-01 00:00:00, dtype: object"
      ]
     },
     "execution_count": 40,
     "metadata": {},
     "output_type": "execute_result"
    }
   ],
   "source": [
    "# this tells me the year my train will end so I can include each month\n",
    "df.iloc[3124]"
   ]
  },
  {
   "cell_type": "code",
   "execution_count": 43,
   "id": "afe0fdb5",
   "metadata": {},
   "outputs": [],
   "source": [
    "#train is equal to the beginning entry in 1800 through 1890, so adding the other 8 months to 3124\n",
    "train = df.iloc[0:3132]"
   ]
  },
  {
   "cell_type": "code",
   "execution_count": 51,
   "id": "70bb0520",
   "metadata": {},
   "outputs": [],
   "source": [
    "validate = df.iloc[3133:3923]"
   ]
  },
  {
   "cell_type": "code",
   "execution_count": 48,
   "id": "3a00aa68",
   "metadata": {},
   "outputs": [],
   "source": [
    "test = df.iloc[3924:]"
   ]
  },
  {
   "cell_type": "code",
   "execution_count": 49,
   "id": "da80d538",
   "metadata": {},
   "outputs": [
    {
     "data": {
      "text/plain": [
       "(3132, 3)"
      ]
     },
     "execution_count": 49,
     "metadata": {},
     "output_type": "execute_result"
    }
   ],
   "source": [
    "train.shape"
   ]
  },
  {
   "cell_type": "code",
   "execution_count": 52,
   "id": "e191e016",
   "metadata": {},
   "outputs": [
    {
     "data": {
      "text/plain": [
       "(790, 3)"
      ]
     },
     "execution_count": 52,
     "metadata": {},
     "output_type": "execute_result"
    }
   ],
   "source": [
    "validate.shape"
   ]
  },
  {
   "cell_type": "code",
   "execution_count": 53,
   "id": "d939c5f5",
   "metadata": {},
   "outputs": [
    {
     "data": {
      "text/plain": [
       "(540, 3)"
      ]
     },
     "execution_count": 53,
     "metadata": {},
     "output_type": "execute_result"
    }
   ],
   "source": [
    "test.shape"
   ]
  },
  {
   "cell_type": "markdown",
   "id": "bb187d57",
   "metadata": {},
   "source": [
    "# Explore"
   ]
  },
  {
   "cell_type": "code",
   "execution_count": null,
   "id": "866ba840",
   "metadata": {},
   "outputs": [],
   "source": [
    "train = df[:'2016'] # includes 2016\n",
    "test = df['2017']\n"
   ]
  },
  {
   "cell_type": "code",
   "execution_count": null,
   "id": "c789c9e1",
   "metadata": {},
   "outputs": [],
   "source": []
  },
  {
   "cell_type": "code",
   "execution_count": null,
   "id": "d0f6446e",
   "metadata": {},
   "outputs": [],
   "source": []
  },
  {
   "cell_type": "code",
   "execution_count": null,
   "id": "38299cb9",
   "metadata": {},
   "outputs": [],
   "source": []
  },
  {
   "cell_type": "code",
   "execution_count": null,
   "id": "a53ac11f",
   "metadata": {},
   "outputs": [],
   "source": []
  }
 ],
 "metadata": {
  "kernelspec": {
   "display_name": "Python 3",
   "language": "python",
   "name": "python3"
  },
  "language_info": {
   "codemirror_mode": {
    "name": "ipython",
    "version": 3
   },
   "file_extension": ".py",
   "mimetype": "text/x-python",
   "name": "python",
   "nbconvert_exporter": "python",
   "pygments_lexer": "ipython3",
   "version": "3.8.8"
  }
 },
 "nbformat": 4,
 "nbformat_minor": 5
}
